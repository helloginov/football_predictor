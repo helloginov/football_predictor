{
 "cells": [
  {
   "cell_type": "markdown",
   "metadata": {},
   "source": [
    "# Предиктор результатов футбольных матчей"
   ]
  },
  {
   "cell_type": "code",
   "execution_count": null,
   "metadata": {},
   "outputs": [],
   "source": [
    "pip install scikit-learn==1.3"
   ]
  },
  {
   "cell_type": "code",
   "execution_count": 1,
   "metadata": {},
   "outputs": [
    {
     "name": "stderr",
     "output_type": "stream",
     "text": [
      "Intel(R) Extension for Scikit-learn* enabled (https://github.com/intel/scikit-learn-intelex)\n"
     ]
    }
   ],
   "source": [
    "#importing\n",
    "import numpy as np \n",
    "import pandas as pd \n",
    "import matplotlib.pyplot as plt\n",
    "import seaborn as sns\n",
    "\n",
    "from sklearnex import patch_sklearn # эти строки должны идти перед импортом sklearn\n",
    "patch_sklearn()                     # для ускорения работы\n",
    "\n",
    "from sklearn.model_selection import train_test_split, StratifiedGroupKFold, GridSearchCV\n",
    "from sklearn.metrics import accuracy_score, roc_auc_score, RocCurveDisplay, auc, roc_curve\n",
    "from sklearn.linear_model import LogisticRegression\n",
    "from sklearn.preprocessing import LabelBinarizer\n",
    "\n",
    "from itertools import cycle"
   ]
  },
  {
   "cell_type": "markdown",
   "metadata": {},
   "source": [
    "## Обзор данных"
   ]
  },
  {
   "cell_type": "code",
   "execution_count": 2,
   "metadata": {},
   "outputs": [
    {
     "data": {
      "text/html": [
       "<div>\n",
       "<style scoped>\n",
       "    .dataframe tbody tr th:only-of-type {\n",
       "        vertical-align: middle;\n",
       "    }\n",
       "\n",
       "    .dataframe tbody tr th {\n",
       "        vertical-align: top;\n",
       "    }\n",
       "\n",
       "    .dataframe thead th {\n",
       "        text-align: right;\n",
       "    }\n",
       "</style>\n",
       "<table border=\"1\" class=\"dataframe\">\n",
       "  <thead>\n",
       "    <tr style=\"text-align: right;\">\n",
       "      <th></th>\n",
       "      <th>idmatch</th>\n",
       "      <th>odds_open_win1</th>\n",
       "      <th>odds_open_draw</th>\n",
       "      <th>odds_open_win2</th>\n",
       "      <th>vi_win_home</th>\n",
       "      <th>vi_win_away</th>\n",
       "      <th>vi_nolose_home</th>\n",
       "      <th>vi_nolose_away</th>\n",
       "      <th>vi_over25_home</th>\n",
       "      <th>vi_over25_away</th>\n",
       "      <th>...</th>\n",
       "      <th>team2_away_xgpower_03_draw_xga90index</th>\n",
       "      <th>team2_away_xgpower_03_draw_xgsubxgaindex</th>\n",
       "      <th>team2_away_xgpower_03_cop_xg90index</th>\n",
       "      <th>team2_away_xgpower_03_cop_xga90index</th>\n",
       "      <th>team2_away_xgpower_03_cop_xgsubxgaindex</th>\n",
       "      <th>team2_away_xgpower_03_com_xg90index</th>\n",
       "      <th>team2_away_xgpower_03_com_xga90index</th>\n",
       "      <th>team2_away_xgpower_03_com_xgsubxgaindex</th>\n",
       "      <th>result_finish_match</th>\n",
       "      <th>result_total_match</th>\n",
       "    </tr>\n",
       "  </thead>\n",
       "  <tbody>\n",
       "    <tr>\n",
       "      <th>0</th>\n",
       "      <td>39231</td>\n",
       "      <td>2.53</td>\n",
       "      <td>3.15</td>\n",
       "      <td>3.02</td>\n",
       "      <td>2.255</td>\n",
       "      <td>-4.318</td>\n",
       "      <td>19.259</td>\n",
       "      <td>-3.855</td>\n",
       "      <td>-41.798</td>\n",
       "      <td>-10.410</td>\n",
       "      <td>...</td>\n",
       "      <td>0.98</td>\n",
       "      <td>0.40</td>\n",
       "      <td>2.13</td>\n",
       "      <td>4.88</td>\n",
       "      <td>0.44</td>\n",
       "      <td>0.55</td>\n",
       "      <td>2.79</td>\n",
       "      <td>0.20</td>\n",
       "      <td>2.0</td>\n",
       "      <td>0.0</td>\n",
       "    </tr>\n",
       "    <tr>\n",
       "      <th>1</th>\n",
       "      <td>39232</td>\n",
       "      <td>2.16</td>\n",
       "      <td>3.26</td>\n",
       "      <td>3.66</td>\n",
       "      <td>-13.230</td>\n",
       "      <td>-29.496</td>\n",
       "      <td>4.164</td>\n",
       "      <td>-47.122</td>\n",
       "      <td>-43.926</td>\n",
       "      <td>-4.662</td>\n",
       "      <td>...</td>\n",
       "      <td>1.23</td>\n",
       "      <td>0.36</td>\n",
       "      <td>0.00</td>\n",
       "      <td>0.00</td>\n",
       "      <td>0.00</td>\n",
       "      <td>0.51</td>\n",
       "      <td>1.34</td>\n",
       "      <td>0.38</td>\n",
       "      <td>1.0</td>\n",
       "      <td>0.0</td>\n",
       "    </tr>\n",
       "    <tr>\n",
       "      <th>2</th>\n",
       "      <td>39233</td>\n",
       "      <td>2.35</td>\n",
       "      <td>3.16</td>\n",
       "      <td>3.31</td>\n",
       "      <td>-35.270</td>\n",
       "      <td>-1.048</td>\n",
       "      <td>-17.721</td>\n",
       "      <td>-2.781</td>\n",
       "      <td>8.467</td>\n",
       "      <td>-6.808</td>\n",
       "      <td>...</td>\n",
       "      <td>0.87</td>\n",
       "      <td>0.31</td>\n",
       "      <td>0.00</td>\n",
       "      <td>0.17</td>\n",
       "      <td>0.00</td>\n",
       "      <td>0.00</td>\n",
       "      <td>0.00</td>\n",
       "      <td>0.00</td>\n",
       "      <td>3.0</td>\n",
       "      <td>1.0</td>\n",
       "    </tr>\n",
       "    <tr>\n",
       "      <th>3</th>\n",
       "      <td>39235</td>\n",
       "      <td>2.50</td>\n",
       "      <td>3.25</td>\n",
       "      <td>2.97</td>\n",
       "      <td>17.593</td>\n",
       "      <td>27.970</td>\n",
       "      <td>1.079</td>\n",
       "      <td>10.260</td>\n",
       "      <td>-27.452</td>\n",
       "      <td>-23.279</td>\n",
       "      <td>...</td>\n",
       "      <td>1.99</td>\n",
       "      <td>0.05</td>\n",
       "      <td>0.00</td>\n",
       "      <td>0.00</td>\n",
       "      <td>0.00</td>\n",
       "      <td>0.18</td>\n",
       "      <td>0.80</td>\n",
       "      <td>0.22</td>\n",
       "      <td>3.0</td>\n",
       "      <td>1.0</td>\n",
       "    </tr>\n",
       "    <tr>\n",
       "      <th>4</th>\n",
       "      <td>45425</td>\n",
       "      <td>2.15</td>\n",
       "      <td>3.49</td>\n",
       "      <td>3.46</td>\n",
       "      <td>19.656</td>\n",
       "      <td>-22.231</td>\n",
       "      <td>-8.999</td>\n",
       "      <td>-8.685</td>\n",
       "      <td>7.560</td>\n",
       "      <td>-7.321</td>\n",
       "      <td>...</td>\n",
       "      <td>0.64</td>\n",
       "      <td>1.45</td>\n",
       "      <td>3.35</td>\n",
       "      <td>1.40</td>\n",
       "      <td>2.40</td>\n",
       "      <td>0.73</td>\n",
       "      <td>2.48</td>\n",
       "      <td>0.29</td>\n",
       "      <td>1.0</td>\n",
       "      <td>1.0</td>\n",
       "    </tr>\n",
       "  </tbody>\n",
       "</table>\n",
       "<p>5 rows × 622 columns</p>\n",
       "</div>"
      ],
      "text/plain": [
       "   idmatch  odds_open_win1  odds_open_draw  odds_open_win2  vi_win_home  \\\n",
       "0    39231            2.53            3.15            3.02        2.255   \n",
       "1    39232            2.16            3.26            3.66      -13.230   \n",
       "2    39233            2.35            3.16            3.31      -35.270   \n",
       "3    39235            2.50            3.25            2.97       17.593   \n",
       "4    45425            2.15            3.49            3.46       19.656   \n",
       "\n",
       "   vi_win_away  vi_nolose_home  vi_nolose_away  vi_over25_home  \\\n",
       "0       -4.318          19.259          -3.855         -41.798   \n",
       "1      -29.496           4.164         -47.122         -43.926   \n",
       "2       -1.048         -17.721          -2.781           8.467   \n",
       "3       27.970           1.079          10.260         -27.452   \n",
       "4      -22.231          -8.999          -8.685           7.560   \n",
       "\n",
       "   vi_over25_away  ...  team2_away_xgpower_03_draw_xga90index  \\\n",
       "0         -10.410  ...                                   0.98   \n",
       "1          -4.662  ...                                   1.23   \n",
       "2          -6.808  ...                                   0.87   \n",
       "3         -23.279  ...                                   1.99   \n",
       "4          -7.321  ...                                   0.64   \n",
       "\n",
       "   team2_away_xgpower_03_draw_xgsubxgaindex  \\\n",
       "0                                      0.40   \n",
       "1                                      0.36   \n",
       "2                                      0.31   \n",
       "3                                      0.05   \n",
       "4                                      1.45   \n",
       "\n",
       "   team2_away_xgpower_03_cop_xg90index  team2_away_xgpower_03_cop_xga90index  \\\n",
       "0                                 2.13                                  4.88   \n",
       "1                                 0.00                                  0.00   \n",
       "2                                 0.00                                  0.17   \n",
       "3                                 0.00                                  0.00   \n",
       "4                                 3.35                                  1.40   \n",
       "\n",
       "   team2_away_xgpower_03_cop_xgsubxgaindex  \\\n",
       "0                                     0.44   \n",
       "1                                     0.00   \n",
       "2                                     0.00   \n",
       "3                                     0.00   \n",
       "4                                     2.40   \n",
       "\n",
       "   team2_away_xgpower_03_com_xg90index  team2_away_xgpower_03_com_xga90index  \\\n",
       "0                                 0.55                                  2.79   \n",
       "1                                 0.51                                  1.34   \n",
       "2                                 0.00                                  0.00   \n",
       "3                                 0.18                                  0.80   \n",
       "4                                 0.73                                  2.48   \n",
       "\n",
       "   team2_away_xgpower_03_com_xgsubxgaindex  result_finish_match  \\\n",
       "0                                     0.20                  2.0   \n",
       "1                                     0.38                  1.0   \n",
       "2                                     0.00                  3.0   \n",
       "3                                     0.22                  3.0   \n",
       "4                                     0.29                  1.0   \n",
       "\n",
       "   result_total_match  \n",
       "0                 0.0  \n",
       "1                 0.0  \n",
       "2                 1.0  \n",
       "3                 1.0  \n",
       "4                 1.0  \n",
       "\n",
       "[5 rows x 622 columns]"
      ]
     },
     "execution_count": 2,
     "metadata": {},
     "output_type": "execute_result"
    }
   ],
   "source": [
    "data = pd.read_csv(\"data.csv\").drop(['odds_open_tm25', 'odds_open_tb25'], axis=1)\n",
    "data.head()"
   ]
  },
  {
   "cell_type": "code",
   "execution_count": 3,
   "metadata": {},
   "outputs": [
    {
     "name": "stdout",
     "output_type": "stream",
     "text": [
      "\n",
      "Баланс классов\n",
      "\n",
      "1.0    24763\n",
      "3.0    17585\n",
      "2.0    15099\n",
      "Name: result_finish_match, dtype: int64 \n",
      "\n",
      "0.0    29307\n",
      "1.0    28140\n",
      "Name: result_total_match, dtype: int64\n"
     ]
    }
   ],
   "source": [
    "\n",
    "with open(\"raw_data_info.txt\", mode='w') as df_info:\n",
    "    data.info(verbose=True, show_counts=True, buf=df_info)\n",
    "print('\\nБаланс классов\\n')\n",
    "print(data['result_finish_match'].value_counts(), '\\n')\n",
    "print(data['result_total_match'].value_counts())\n"
   ]
  },
  {
   "cell_type": "markdown",
   "metadata": {},
   "source": [
    "Классы более или менее сбалансированны. Для улучшения обучения можно потом попробовать переставить команды местами в датасете и увеличить датасет вдвое.\n",
    "\n",
    "## Предобработка\n",
    "\n",
    "Оставим для обучения и теста только данные, удовлетворяющие условию `selection` (см. код ниже).  Nan-строки долой. На тест выделяем 20% данных, остальное -- обучение.\n",
    "\n",
    "Увеличим обучающий датасет вдвое, продублировав все строки таким образом, чтобы столбцы, отвечающие за одни и те же параметры для разных команд, поменялись местами. У одинаковых матчей одинаковые id, поэтому для кросс-валидации используем GroupKFold, чтобы никакие два матча не попали одновременно в обучающую и валидационную выборки."
   ]
  },
  {
   "cell_type": "code",
   "execution_count": 4,
   "metadata": {},
   "outputs": [
    {
     "data": {
      "text/plain": [
       "(29410, 622)"
      ]
     },
     "execution_count": 4,
     "metadata": {},
     "output_type": "execute_result"
    }
   ],
   "source": [
    "# Для решения задачи пригодными считаем лишь данные, для которых коэффициенты \"odds_open_win2\" > 2.0 и \"odds_open_win1\" > 2.0\n",
    "selection = (data[\"odds_open_win2\"] > 2.0) & (data[\"odds_open_win1\"] > 2.0)\n",
    "\n",
    "data_selected = data[selection].dropna()\n",
    "data_selected.shape"
   ]
  },
  {
   "cell_type": "code",
   "execution_count": 5,
   "metadata": {},
   "outputs": [],
   "source": [
    "# Делим на трейн и тест\n",
    "y_finish = data_selected['result_finish_match'].astype(int)\n",
    "y_result = data_selected['result_total_match'].astype(int) # на это пока не смотрим\n",
    "X = data_selected.drop(['result_finish_match', 'result_total_match'], axis=1)\n",
    "X.iloc[1:, :].astype('float32', copy=False)\n",
    "\n",
    "X_train, X_test, y_train, y_test = train_test_split(X, y_finish, test_size=0.2, random_state=42, shuffle=True, stratify=y_finish)"
   ]
  },
  {
   "cell_type": "code",
   "execution_count": 6,
   "metadata": {},
   "outputs": [],
   "source": [
    "# Дублируем данные и переставляем местами пары столбцы следующих видов: \n",
    "# \"...-2\" и \"...\", \n",
    "# \"team1...\" и \"team2...\", \n",
    "# \"...win1\" и \"...win2\" \n",
    "\n",
    "def swap(feature_name_1, feature_names_2, train_copy):\n",
    "    X_train_copy[feature_name_1], X_train_copy[feature_names_2] = X_train_copy[feature_names_2], X_train_copy[feature_name_1]\n",
    "\n",
    "\n",
    "X_train_copy = X_train.copy(deep=True)\n",
    "swap('odds_open_win1', 'odds_open_win2', X_train_copy)\n",
    "\n",
    "for name_2 in X_train_copy.filter(like=\"-2\").columns:  # колонки с паттерном \"-2\"\n",
    "    name_1 = ''.join(name_2.split(\"-2\"))  # композиция split и join выделяет из строки подстроку без \"-2\"\n",
    "    swap(name_1, name_2, X_train_copy)\n",
    "\n",
    "for name_2 in X_train_copy.filter(like=\"team2\").columns:  # колонки с паттерном \"team2\"\n",
    "    tmp = ''.join(name_2.split(\"team2\"))\n",
    "    name_1 = 'team1' + tmp  # композиция split и join выделяет из строки подстроку без \"team2\", слева приписывается \"team1\"\n",
    "    swap(name_1, name_2, X_train_copy)\n",
    "\n",
    "\n",
    "X_train = pd.concat((X_train, X_train_copy))\n",
    "y_train = pd.concat((y_train, y_train))"
   ]
  },
  {
   "cell_type": "code",
   "execution_count": 7,
   "metadata": {},
   "outputs": [
    {
     "data": {
      "text/plain": [
       "((47056, 619), (47056,))"
      ]
     },
     "execution_count": 7,
     "metadata": {},
     "output_type": "execute_result"
    }
   ],
   "source": [
    "groups_train, groups_test = X_train['idmatch'], X_test['idmatch']\n",
    "X_train.drop('idmatch', axis=1, inplace=True)\n",
    "X_test.drop('idmatch', axis=1, inplace=True)\n",
    "\n",
    "X_train.shape, y_train.shape"
   ]
  },
  {
   "cell_type": "code",
   "execution_count": 8,
   "metadata": {},
   "outputs": [
    {
     "data": {
      "text/plain": [
       "(5882, 3)"
      ]
     },
     "execution_count": 8,
     "metadata": {},
     "output_type": "execute_result"
    }
   ],
   "source": [
    "# для визуализации результатов сделаем бинаризацию классов: \n",
    "label_binarizer = LabelBinarizer().fit(y_train)\n",
    "y_onehot_test = label_binarizer.transform(y_test)\n",
    "y_onehot_test.shape  # (n_samples, n_classes)"
   ]
  },
  {
   "cell_type": "markdown",
   "metadata": {},
   "source": [
    "## Вспомогательные функции"
   ]
  },
  {
   "cell_type": "code",
   "execution_count": 35,
   "metadata": {},
   "outputs": [],
   "source": [
    "def find_best_model(model, X_train, y_train, groups_train, params_grid, scoring):\n",
    "    \"\"\"\n",
    "    Функция подбора гиперпараметров\n",
    "    \"\"\"\n",
    "\n",
    "    grid_search = GridSearchCV(\n",
    "    model, params_grid,\n",
    "    scoring=scoring,\n",
    "    cv=StratifiedGroupKFold(n_splits=5),\n",
    "    n_jobs=-1\n",
    "    )\n",
    "\n",
    "    grid_search.fit(X_train, y_train, groups=groups_train)\n",
    "\n",
    "    # Print the best hyperparameters\n",
    "    print(\"Best hyperparameters:\", grid_search.best_params_)\n",
    "\n",
    "    # Print the best score\n",
    "    print(\"Best cross-val score:\", grid_search.best_score_)\n",
    "\n",
    "    return grid_search.best_estimator_\n",
    "\n",
    "\n",
    "def display_roc_curves(probas, auc, target_names):\n",
    "    \"\"\"\n",
    "    Отображает микро-усреднённую ROC кривую, а так же ROC-кривые по каждому из классов\n",
    "    :probas: предсказанные вероятности классов\n",
    "    :auc: Area Under the Curve ROC (macro)\n",
    "    :target_names: имена классов\n",
    "    \"\"\"\n",
    "\n",
    "    fig, ax = plt.subplots(figsize=(6, 6))\n",
    "\n",
    "    fpr_micro, tpr_micro, _ = roc_curve(y_onehot_test.ravel(), probas.ravel())\n",
    "    plt.plot(\n",
    "        fpr_micro,\n",
    "        tpr_micro,\n",
    "        label=f\"micro-average ROC curve (AUC = {auc:.2f})\",\n",
    "        color='m',\n",
    "        linestyle=\":\",\n",
    "        linewidth=3,\n",
    "    )\n",
    "\n",
    "    n_classes = probas.shape[1]\n",
    "    colors = cycle([\"aqua\", \"darkorange\", \"cornflowerblue\"])\n",
    "    for class_id, color in zip(range(n_classes), colors):\n",
    "        RocCurveDisplay.from_predictions(\n",
    "            y_onehot_test[:, class_id],\n",
    "            probas[:, class_id],\n",
    "            name=f\"ROC curve for {target_names[class_id]}\",\n",
    "            color=color,\n",
    "            ax=ax,\n",
    "            plot_chance_level=(class_id == 2),\n",
    "        )\n",
    "\n",
    "    plt.axis(\"square\")\n",
    "    plt.xlabel(\"False Positive Rate\")\n",
    "    plt.ylabel(\"True Positive Rate\")\n",
    "    plt.title(\"Extension of Receiver Operating Characteristic\\nto One-vs-Rest multiclass\")\n",
    "    plt.legend()\n",
    "    plt.grid()\n",
    "    plt.show()\n",
    "\n",
    "\n",
    "def test(estimator, name, X_test, y_test, groups_test):\n",
    "    \"\"\"\n",
    "    Прогоняет обученную модель по тестовой выборке и сохраняет результаты в файл с именем \"name_results.csv\" \n",
    "    в виде таблицы со столбцами: idmatch, истинные классы, предсказания, коэффициенты уверенности (3 столбца), вер-ть победы 1, вер-ть ничьей, вер-ть победы 2, \n",
    "    а также сохраняет саму модель.\n",
    "    \"\"\"\n",
    "\n",
    "    y_pred = estimator.predict(X_test)\n",
    "    probas = estimator.predict_proba(X_test)\n",
    "    confidence_scores = estimator.decision_function(X_test) #https://scikit-learn.org/stable/modules/generated/sklearn.linear_model.LogisticRegression.html#sklearn.linear_model.LogisticRegression.decision_function\n",
    "    \n",
    "    accuracy = accuracy_score(y_test, y_pred)\n",
    "    roc_auc  = roc_auc_score(y_test, probas, average='micro', multi_class='ovr')\n",
    "\n",
    "    print(\"Accuracy: \", accuracy)\n",
    "    print(\"ROC AUC (macro):  \", roc_auc)\n",
    "\n",
    "    table = pd.DataFrame({\n",
    "        'result_finish_match': y_test,\n",
    "        'result_finish_match_prediction': y_pred,\n",
    "        'confidence_scores_1': confidence_scores[:, 0],\n",
    "        'confidence_scores_2': confidence_scores[:, 1],\n",
    "        'confidence_scores_3': confidence_scores[:, 2],\n",
    "        'proba_win_1': probas[:, 0],\n",
    "        'proba_draw': probas[:, 1],\n",
    "        'proba_win_2': probas[:, 2]\n",
    "        }, index=groups_test)\n",
    "    \n",
    "    # table.to_csv(name + '_results.csv')\n",
    "\n",
    "    display_roc_curves(probas, roc_auc, ('win_1', 'draw', 'win_2'))\n",
    "\n",
    "    return table\n",
    "    "
   ]
  },
  {
   "cell_type": "markdown",
   "metadata": {},
   "source": [
    "## Логистическая регрессия"
   ]
  },
  {
   "cell_type": "code",
   "execution_count": 29,
   "metadata": {},
   "outputs": [
    {
     "name": "stdout",
     "output_type": "stream",
     "text": [
      "Логистическая регрессия (метрика accuracy)\n",
      "Best hyperparameters: {'C': 3.359818286283781e-05}\n",
      "Best cross-val score: 0.37249256261253116\n",
      "Accuracy:  0.370452227133628\n",
      "ROC AUC (macro):   0.5388790090411205\n"
     ]
    },
    {
     "name": "stderr",
     "output_type": "stream",
     "text": [
      "c:\\Users\\Artyom\\anaconda3\\envs\\general_env\\lib\\site-packages\\sklearn\\base.py:464: UserWarning: X does not have valid feature names, but LogisticRegression was fitted with feature names\n",
      "  warnings.warn(\n"
     ]
    },
    {
     "data": {
      "image/png": "[encoded data removed]",
      "text/plain": [
       "<Figure size 600x600 with 1 Axes>"
      ]
     },
     "metadata": {},
     "output_type": "display_data"
    }
   ],
   "source": [
    "log_reg = LogisticRegression(\n",
    "    penalty='l2',\n",
    "    solver='newton-cholesky',\n",
    "    n_jobs=-1\n",
    ")\n",
    "\n",
    "params = {\"C\": np.logspace(-5, 5, 20)}\n",
    "\n",
    "print(\"Логистическая регрессия (метрика accuracy)\")\n",
    "log_reg_best = find_best_model(log_reg, X_train, y_train, groups_train, params, scoring='accuracy')\n",
    "\n",
    "test(log_reg_best, 'logistic_1', X_test, y_test, groups_test)"
   ]
  },
  {
   "cell_type": "code",
   "execution_count": null,
   "metadata": {},
   "outputs": [],
   "source": []
  }
 ],
 "metadata": {
  "kernelspec": {
   "display_name": "general_env",
   "language": "python",
   "name": "python3"
  },
  "language_info": {
   "codemirror_mode": {
    "name": "ipython",
    "version": 3
   },
   "file_extension": ".py",
   "mimetype": "text/x-python",
   "name": "python",
   "nbconvert_exporter": "python",
   "pygments_lexer": "ipython3",
   "version": "3.10.12"
  },
  "orig_nbformat": 4
 },
 "nbformat": 4,
 "nbformat_minor": 2
}
